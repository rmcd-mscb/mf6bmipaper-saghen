{
 "cells": [
  {
   "cell_type": "code",
   "execution_count": 17,
   "metadata": {},
   "outputs": [],
   "source": [
    "import geopandas as gpd\n",
    "import glob\n",
    "from pathlib import Path\n",
    "import netCDF4 as ncd\n",
    "import numpy as np"
   ]
  },
  {
   "cell_type": "code",
   "execution_count": 18,
   "metadata": {},
   "outputs": [],
   "source": [
    "hru_shp = Path('../sagehen_maps/HRUs.shp')\n",
    "hru_data = gpd.read_file(hru_shp)"
   ]
  },
  {
   "cell_type": "code",
   "execution_count": 19,
   "metadata": {},
   "outputs": [
    {
     "data": {
      "text/html": [
       "<div>\n",
       "<style scoped>\n",
       "    .dataframe tbody tr th:only-of-type {\n",
       "        vertical-align: middle;\n",
       "    }\n",
       "\n",
       "    .dataframe tbody tr th {\n",
       "        vertical-align: top;\n",
       "    }\n",
       "\n",
       "    .dataframe thead th {\n",
       "        text-align: right;\n",
       "    }\n",
       "</style>\n",
       "<table border=\"1\" class=\"dataframe\">\n",
       "  <thead>\n",
       "    <tr style=\"text-align: right;\">\n",
       "      <th></th>\n",
       "      <th>AREA</th>\n",
       "      <th>PERIMETER</th>\n",
       "      <th>TP_JAG_MF_</th>\n",
       "      <th>TP_JAG_MF1</th>\n",
       "      <th>GRID_CODE</th>\n",
       "      <th>geometry</th>\n",
       "    </tr>\n",
       "  </thead>\n",
       "  <tbody>\n",
       "    <tr>\n",
       "      <th>0</th>\n",
       "      <td>304200.0</td>\n",
       "      <td>4140.0</td>\n",
       "      <td>2</td>\n",
       "      <td>1</td>\n",
       "      <td>1</td>\n",
       "      <td>POLYGON ((-2046220 2089229.875, -2046250 20892...</td>\n",
       "    </tr>\n",
       "    <tr>\n",
       "      <th>1</th>\n",
       "      <td>156600.0</td>\n",
       "      <td>2880.0</td>\n",
       "      <td>3</td>\n",
       "      <td>2</td>\n",
       "      <td>2</td>\n",
       "      <td>POLYGON ((-2046220 2089229.875, -2046220 20891...</td>\n",
       "    </tr>\n",
       "    <tr>\n",
       "      <th>2</th>\n",
       "      <td>53100.0</td>\n",
       "      <td>1440.0</td>\n",
       "      <td>4</td>\n",
       "      <td>3</td>\n",
       "      <td>3</td>\n",
       "      <td>POLYGON ((-2046040 2088869.875, -2046040 20888...</td>\n",
       "    </tr>\n",
       "    <tr>\n",
       "      <th>3</th>\n",
       "      <td>441000.0</td>\n",
       "      <td>5040.0</td>\n",
       "      <td>5</td>\n",
       "      <td>4</td>\n",
       "      <td>4</td>\n",
       "      <td>POLYGON ((-2045890 2088749.875, -2045860 20887...</td>\n",
       "    </tr>\n",
       "    <tr>\n",
       "      <th>4</th>\n",
       "      <td>106200.0</td>\n",
       "      <td>2460.0</td>\n",
       "      <td>6</td>\n",
       "      <td>5</td>\n",
       "      <td>5</td>\n",
       "      <td>POLYGON ((-2046130 2088689.875, -2046130 20886...</td>\n",
       "    </tr>\n",
       "    <tr>\n",
       "      <th>...</th>\n",
       "      <td>...</td>\n",
       "      <td>...</td>\n",
       "      <td>...</td>\n",
       "      <td>...</td>\n",
       "      <td>...</td>\n",
       "      <td>...</td>\n",
       "    </tr>\n",
       "    <tr>\n",
       "      <th>123</th>\n",
       "      <td>372600.0</td>\n",
       "      <td>4260.0</td>\n",
       "      <td>125</td>\n",
       "      <td>124</td>\n",
       "      <td>124</td>\n",
       "      <td>POLYGON ((-2046040 2083829.875, -2046010 20838...</td>\n",
       "    </tr>\n",
       "    <tr>\n",
       "      <th>124</th>\n",
       "      <td>197100.0</td>\n",
       "      <td>2940.0</td>\n",
       "      <td>126</td>\n",
       "      <td>125</td>\n",
       "      <td>125</td>\n",
       "      <td>POLYGON ((-2045920 2083769.875, -2045890 20837...</td>\n",
       "    </tr>\n",
       "    <tr>\n",
       "      <th>125</th>\n",
       "      <td>219600.0</td>\n",
       "      <td>2400.0</td>\n",
       "      <td>127</td>\n",
       "      <td>126</td>\n",
       "      <td>126</td>\n",
       "      <td>POLYGON ((-2045800 2083709.875, -2045800 20836...</td>\n",
       "    </tr>\n",
       "    <tr>\n",
       "      <th>126</th>\n",
       "      <td>171900.0</td>\n",
       "      <td>2100.0</td>\n",
       "      <td>128</td>\n",
       "      <td>127</td>\n",
       "      <td>127</td>\n",
       "      <td>POLYGON ((-2045230 2083649.875, -2045230 20836...</td>\n",
       "    </tr>\n",
       "    <tr>\n",
       "      <th>127</th>\n",
       "      <td>55800.0</td>\n",
       "      <td>1500.0</td>\n",
       "      <td>129</td>\n",
       "      <td>128</td>\n",
       "      <td>128</td>\n",
       "      <td>POLYGON ((-2045650 2083349.875, -2045620 20833...</td>\n",
       "    </tr>\n",
       "  </tbody>\n",
       "</table>\n",
       "<p>128 rows × 6 columns</p>\n",
       "</div>"
      ],
      "text/plain": [
       "         AREA  PERIMETER  TP_JAG_MF_  TP_JAG_MF1  GRID_CODE  \\\n",
       "0    304200.0     4140.0           2           1          1   \n",
       "1    156600.0     2880.0           3           2          2   \n",
       "2     53100.0     1440.0           4           3          3   \n",
       "3    441000.0     5040.0           5           4          4   \n",
       "4    106200.0     2460.0           6           5          5   \n",
       "..        ...        ...         ...         ...        ...   \n",
       "123  372600.0     4260.0         125         124        124   \n",
       "124  197100.0     2940.0         126         125        125   \n",
       "125  219600.0     2400.0         127         126        126   \n",
       "126  171900.0     2100.0         128         127        127   \n",
       "127   55800.0     1500.0         129         128        128   \n",
       "\n",
       "                                              geometry  \n",
       "0    POLYGON ((-2046220 2089229.875, -2046250 20892...  \n",
       "1    POLYGON ((-2046220 2089229.875, -2046220 20891...  \n",
       "2    POLYGON ((-2046040 2088869.875, -2046040 20888...  \n",
       "3    POLYGON ((-2045890 2088749.875, -2045860 20887...  \n",
       "4    POLYGON ((-2046130 2088689.875, -2046130 20886...  \n",
       "..                                                 ...  \n",
       "123  POLYGON ((-2046040 2083829.875, -2046010 20838...  \n",
       "124  POLYGON ((-2045920 2083769.875, -2045890 20837...  \n",
       "125  POLYGON ((-2045800 2083709.875, -2045800 20836...  \n",
       "126  POLYGON ((-2045230 2083649.875, -2045230 20836...  \n",
       "127  POLYGON ((-2045650 2083349.875, -2045620 20833...  \n",
       "\n",
       "[128 rows x 6 columns]"
      ]
     },
     "execution_count": 19,
     "metadata": {},
     "output_type": "execute_result"
    }
   ],
   "source": [
    "hru_data\n"
   ]
  },
  {
   "cell_type": "code",
   "execution_count": 20,
   "metadata": {},
   "outputs": [
    {
     "data": {
      "text/plain": [
       "array([  1,   2,   3,   4,   5,  15,   6,   7,   9,   8,  10,  11,  12,\n",
       "        13,  17,  14,  16,  18,  19,  20,  21,  22,  23,  24,  25,  26,\n",
       "        27,  28,  29,  30,  31,  35,  33,  32,  34,  36,  37,  38,  49,\n",
       "        39,  40,  41,  57,  42,  43,  44,  47,  45,  46,  48,  50,  51,\n",
       "        52,  53,  54,  55,  56,  58,  59,  60,  76,  61,  62,  63,  65,\n",
       "        66,  64,  67,  68,  69,  70,  71,  72,  73,  74,  75,  77,  78,\n",
       "        79,  80,  81,  82,  83,  84,  85,  86,  87,  88,  91,  90,  89,\n",
       "        92,  93,  94,  95,  96,  97,  98, 104,  99, 100, 101, 102, 103,\n",
       "       105, 106, 107, 108, 109, 110, 111, 112, 113, 114, 115, 116, 117,\n",
       "       118, 119, 123, 120, 121, 122, 124, 125, 126, 127, 128], dtype=int64)"
      ]
     },
     "execution_count": 20,
     "metadata": {},
     "output_type": "execute_result"
    }
   ],
   "source": [
    "hru_data.GRID_CODE.values\n"
   ]
  },
  {
   "cell_type": "code",
   "execution_count": 21,
   "metadata": {},
   "outputs": [
    {
     "data": {
      "text/plain": [
       "array([  0,   1,   2,   3,   4,   5,   6,   7,   8,   9,  10,  11,  12,\n",
       "        13,  14,  15,  16,  17,  18,  19,  20,  21,  22,  23,  24,  25,\n",
       "        26,  27,  28,  29,  30,  31,  32,  33,  34,  35,  36,  37,  38,\n",
       "        39,  40,  41,  42,  43,  44,  45,  46,  47,  48,  49,  50,  51,\n",
       "        52,  53,  54,  55,  56,  57,  58,  59,  60,  61,  62,  63,  64,\n",
       "        65,  66,  67,  68,  69,  70,  71,  72,  73,  74,  75,  76,  77,\n",
       "        78,  79,  80,  81,  82,  83,  84,  85,  86,  87,  88,  89,  90,\n",
       "        91,  92,  93,  94,  95,  96,  97,  98,  99, 100, 101, 102, 103,\n",
       "       104, 105, 106, 107, 108, 109, 110, 111, 112, 113, 114, 115, 116,\n",
       "       117, 118, 119, 120, 121, 122, 123, 124, 125, 126, 127], dtype=int64)"
      ]
     },
     "execution_count": 21,
     "metadata": {},
     "output_type": "execute_result"
    }
   ],
   "source": [
    "hru_data.index.values\n"
   ]
  },
  {
   "cell_type": "code",
   "execution_count": 22,
   "metadata": {},
   "outputs": [],
   "source": [
    "hru_dsort = hru_data.iloc[hru_data['GRID_CODE'].sort_values().index.values]"
   ]
  },
  {
   "cell_type": "code",
   "execution_count": 23,
   "metadata": {},
   "outputs": [
    {
     "data": {
      "text/plain": [
       "array([ 75.169341 ,  38.696643 ,  13.1212755, 108.973305 ,  26.242551 ,\n",
       "        66.9407445,  96.7416075, 182.5858845,  61.6032765,  46.0356615,\n",
       "        87.4010385,  14.0108535,  19.570716 , 153.007416 , 136.995012 ,\n",
       "        91.181745 ,  49.5939735,  35.138331 ,  78.5052585,  67.8303225,\n",
       "        42.0325605,  40.6981935,  39.8086155,  33.803964 ,  72.7230015,\n",
       "        18.9035325,  48.7043955, 160.3464345,  47.8148175, 102.0790755,\n",
       "        80.506809 ,  21.1274775,  59.156937 ,  20.015505 ,  36.2503035,\n",
       "        35.3607255,  35.8055145,  27.576918 ,  27.3545235,  64.7167995,\n",
       "        23.3514225,  76.948497 ,  21.349872 ,  24.463395 ,  29.5784685,\n",
       "        22.0170555,  94.0728735,  13.788459 ,  25.1305785,  21.349872 ,\n",
       "        29.5784685,  56.043414 ,  84.2875155,  47.147634 ,  26.9097345,\n",
       "        36.2503035,  26.242551 ,  16.901982 ,  30.0232575,  81.396387 ,\n",
       "        20.905083 ,  28.021707 , 278.6603085,  23.3514225,  26.0201565,\n",
       "        60.046515 ,  14.9004315,  42.699744 ,  15.567615 ,  28.466496 ,\n",
       "        22.684239 ,  96.2968185,  95.629635 , 104.7478095,  20.2378995,\n",
       "       122.9841585,  24.463395 ,  20.015505 ,  92.516112 ,  47.3700285,\n",
       "        40.03101  ,  40.6981935,  62.715249 ,  40.2534045,  32.6919915,\n",
       "        87.623433 ,  63.604827 ,  35.8055145,  16.012404 ,  17.346771 ,\n",
       "        34.693542 ,  30.690441 , 145.446003 ,  21.5722665,  27.7993125,\n",
       "        36.2503035,  22.4618445,  46.702845 ,  70.276662 ,  40.2534045,\n",
       "        14.0108535,  15.3452205,  31.3576245,  13.1212755, 140.553324 ,\n",
       "        40.03101  ,  34.9159365, 107.638938 ,  20.460294 ,  22.9066335,\n",
       "        23.573817 ,  91.8489285,  81.1739925,  98.0759745,  69.387084 ,\n",
       "        47.592423 ,  58.4897535,  15.3452205,  36.472698 ,  51.150735 ,\n",
       "        17.346771 ,  51.595524 , 100.077525 ,  92.071323 ,  48.7043955,\n",
       "        54.264258 ,  42.4773495,  13.788459 ])"
      ]
     },
     "execution_count": 23,
     "metadata": {},
     "output_type": "execute_result"
    }
   ],
   "source": [
    "sqm2acres = 0.000247105\n",
    "hru_dsort.AREA.values*sqm2acres"
   ]
  },
  {
   "cell_type": "code",
   "execution_count": 24,
   "metadata": {},
   "outputs": [
    {
     "data": {
      "text/plain": [
       "{'init': 'epsg:5069'}"
      ]
     },
     "execution_count": 24,
     "metadata": {},
     "output_type": "execute_result"
    }
   ],
   "source": [
    "hru_data.crs"
   ]
  },
  {
   "cell_type": "code",
   "execution_count": 25,
   "metadata": {},
   "outputs": [
    {
     "data": {
      "text/plain": [
       "0     -120.264641\n",
       "1     -120.262843\n",
       "2     -120.259378\n",
       "3     -120.251370\n",
       "4     -120.260035\n",
       "          ...    \n",
       "123   -120.250096\n",
       "124   -120.246071\n",
       "125   -120.242391\n",
       "126   -120.237160\n",
       "127   -120.238025\n",
       "Length: 128, dtype: float64"
      ]
     },
     "execution_count": 25,
     "metadata": {},
     "output_type": "execute_result"
    }
   ],
   "source": [
    "hru_dsort.to_crs(epsg=4326).geometry.centroid.x"
   ]
  },
  {
   "cell_type": "code",
   "execution_count": 26,
   "metadata": {},
   "outputs": [],
   "source": [
    "import netCDF4 as ncd\n",
    "import numpy as np\n",
    "filencf = ncd.Dataset('../sagehen_prms6/prms6/prms_grid_v3-Copy1.nc','a')"
   ]
  },
  {
   "cell_type": "code",
   "execution_count": 27,
   "metadata": {},
   "outputs": [
    {
     "name": "stdout",
     "output_type": "stream",
     "text": [
      "<class 'netCDF4._netCDF4.Dataset'>\n",
      "root group (NETCDF4 data model, file format HDF5):\n",
      "    dimensions(sizes): nsegment(15), nobs(1), nhru(128), nssr(128), ngw(128), ndepl(1), ndeplval(1408), nmonths(12), ndays(366), ntemp(2), nrain(2)\n",
      "    variables(dimensions): float32 \u001b[4malbset_snm\u001b[0m(), float32 \u001b[4mssr2gw_rate\u001b[0m(nssr), float32 \u001b[4mtmax_allrain_offset\u001b[0m(nmonths,nhr), int32 \u001b[4mrunoff_units\u001b[0m(), float32 \u001b[4mfastcoef_lin\u001b[0m(nhr), float32 \u001b[4msoil_rechr_max_frac\u001b[0m(nhr), float32 \u001b[4msoil_rechr_init_frac\u001b[0m(nhr), float32 \u001b[4msmidx_coef\u001b[0m(nhr), float32 \u001b[4mtransp_tmax\u001b[0m(nhr), float32 \u001b[4mslowcoef_lin\u001b[0m(nhr), float32 \u001b[4mradadj_slope\u001b[0m(nmonths,nhr), float32 \u001b[4msnarea_thresh\u001b[0m(nhr), float32 \u001b[4mradmax\u001b[0m(nmonths,nhr), float32 \u001b[4mden_init\u001b[0m(), float32 \u001b[4mfastcoef_sq\u001b[0m(nhr), float32 \u001b[4malbset_sna\u001b[0m(), float32 \u001b[4mssr2gw_exp\u001b[0m(nhr), float32 \u001b[4mfreeh2o_cap\u001b[0m(nhr), float32 \u001b[4mtmax_allsnow\u001b[0m(nmonths,nhr), float32 \u001b[4msoil_moist_max\u001b[0m(nhr), float32 \u001b[4mdday_slope\u001b[0m(nmonths,nhr), float32 \u001b[4msmidx_exp\u001b[0m(nhr), float32 \u001b[4mdday_intcp\u001b[0m(nmonths,nhr), float32 \u001b[4msnarea_curve\u001b[0m(ndeplval), int32 \u001b[4mtransp_end\u001b[0m(nhr), float32 \u001b[4mcarea_max\u001b[0m(nhr), float32 \u001b[4madjmix_rain\u001b[0m(nmonths,nhr), float32 \u001b[4mpotet_sublim\u001b[0m(nhr), float32 \u001b[4mssstor_init_frac\u001b[0m(nhr), int32 \u001b[4melev_units\u001b[0m(), int32 \u001b[4mprecip_units\u001b[0m(), float32 \u001b[4msettle_const\u001b[0m(), float32 \u001b[4mjh_coef_hru\u001b[0m(nhr), int32 \u001b[4mtransp_beg\u001b[0m(nhr), float32 \u001b[4malbset_rna\u001b[0m(), float32 \u001b[4mradadj_intcp\u001b[0m(nmonths,nhr), float32 \u001b[4mcecn_coef\u001b[0m(nmonths,nhr), float32 \u001b[4mppt_rad_adj\u001b[0m(nmonths,nhr), float32 \u001b[4msoil2gw_max\u001b[0m(nhr), float32 \u001b[4msat_threshold\u001b[0m(nhr), float32 \u001b[4mepan_coef\u001b[0m(nmonths,nhr), int32 \u001b[4mmelt_look\u001b[0m(nhr), float32 \u001b[4msnowinfil_max\u001b[0m(nhr), float32 \u001b[4mden_max\u001b[0m(), int32 \u001b[4mhru_deplcrv\u001b[0m(nhr), float32 \u001b[4mpref_flow_den\u001b[0m(nhr), float32 \u001b[4mjh_coef\u001b[0m(nmonths,nhr), float32 \u001b[4msoil_moist_init_frac\u001b[0m(nhr), float32 \u001b[4mtmax_index\u001b[0m(nmonths,nhr), float32 \u001b[4mrad_trncf\u001b[0m(nhr), int32 \u001b[4mmelt_force\u001b[0m(nhr), float32 \u001b[4mslowcoef_sq\u001b[0m(nhr), float32 \u001b[4mradj_wppt\u001b[0m(nhr), float32 \u001b[4malbset_rnm\u001b[0m(), float32 \u001b[4mradj_sppt\u001b[0m(nhr), int32 \u001b[4mtstorm_mo\u001b[0m(nmonths,nhr), float32 \u001b[4mgwstor_min\u001b[0m(nhr), float32 \u001b[4mgwflow_coef\u001b[0m(nhr), float32 \u001b[4mgwsink_coef\u001b[0m(nhr), float32 \u001b[4mgwstor_init\u001b[0m(nhr), float32 \u001b[4memis_noppt\u001b[0m(nhr), float32 \u001b[4msnowpack_init\u001b[0m(nhr), float32 \u001b[4mwrain_intcp\u001b[0m(nhr), float32 \u001b[4mcovden_sum\u001b[0m(nhr), float32 \u001b[4mhru_percent_imperv\u001b[0m(nhr), float32 \u001b[4mhru_elev\u001b[0m(nhr), int32 \u001b[4msoil_type\u001b[0m(nhr), float32 \u001b[4mhru_aspect\u001b[0m(nhr), float32 \u001b[4mcovden_win\u001b[0m(nhr), float32 \u001b[4mimperv_stor_max\u001b[0m(nhr), int32 \u001b[4mhru_type\u001b[0m(nhr), int32 \u001b[4mtemp_units\u001b[0m(), float32 \u001b[4msrain_intcp\u001b[0m(nhr), float32 \u001b[4msnow_intcp\u001b[0m(nhr), float32 \u001b[4mhru_lat\u001b[0m(nhr), float32 \u001b[4mhru_slope\u001b[0m(nhr), int32 \u001b[4mcov_type\u001b[0m(nhr), float32 \u001b[4mhru_area\u001b[0m(nhr), int32 \u001b[4mtosegment\u001b[0m(nsegment), int32 \u001b[4msegment_type\u001b[0m(nsegment), int32 \u001b[4mobsin_segment\u001b[0m(nsegment), int32 \u001b[4mobsout_segment\u001b[0m(nsegment), float32 \u001b[4msegment_flow_init\u001b[0m(nsegment), int32 \u001b[4mnhm_id\u001b[0m(nhr), int32 \u001b[4mnhm_seg\u001b[0m(nsegment), float32 \u001b[4msnow_cbh_adj\u001b[0m(nmonths,nhr), float32 \u001b[4mrain_cbh_adj\u001b[0m(nmonths,nhr), float32 \u001b[4mtmax_cbh_adj\u001b[0m(nmonths,nhr), float32 \u001b[4mtmin_cbh_adj\u001b[0m(nmonths,nhr), int32 \u001b[4mhru_segment\u001b[0m(nhr)\n",
      "    groups: \n",
      "\n"
     ]
    }
   ],
   "source": [
    "print(filencf)"
   ]
  },
  {
   "cell_type": "code",
   "execution_count": 28,
   "metadata": {},
   "outputs": [
    {
     "data": {
      "text/plain": [
       "odict_keys(['nsegment', 'nobs', 'nhru', 'nssr', 'ngw', 'ndepl', 'ndeplval', 'nmonths', 'ndays', 'ntemp', 'nrain'])"
      ]
     },
     "execution_count": 28,
     "metadata": {},
     "output_type": "execute_result"
    }
   ],
   "source": [
    "filencf.dimensions.keys()"
   ]
  },
  {
   "cell_type": "code",
   "execution_count": 29,
   "metadata": {},
   "outputs": [],
   "source": [
    "hru_lon = filencf.createVariable('hru_lon', np.dtype(np.float32).char, ('nhru'))\n",
    "hru_x = filencf.createVariable('hru_x', np.dtype(np.float32).char, ('nhru'))\n",
    "hru_y = filencf.createVariable('hru_y', np.dtype(np.float32).char, ('nhru'))"
   ]
  },
  {
   "cell_type": "code",
   "execution_count": 30,
   "metadata": {},
   "outputs": [],
   "source": [
    "hru_lon[:] = hru_dsort.to_crs(epsg=4326).geometry.centroid.x.values\n",
    "hru_x[:] = hru_dsort.to_crs(epsg=4326).geometry.centroid.x.values\n",
    "hru_y[:] = hru_dsort.to_crs(epsg=4326).geometry.centroid.y.values"
   ]
  },
  {
   "cell_type": "code",
   "execution_count": 31,
   "metadata": {},
   "outputs": [],
   "source": [
    "filencf.close()"
   ]
  },
  {
   "cell_type": "code",
   "execution_count": null,
   "metadata": {},
   "outputs": [],
   "source": []
  }
 ],
 "metadata": {
  "kernelspec": {
   "display_name": "Python 3",
   "language": "python",
   "name": "python3"
  },
  "language_info": {
   "codemirror_mode": {
    "name": "ipython",
    "version": 3
   },
   "file_extension": ".py",
   "mimetype": "text/x-python",
   "name": "python",
   "nbconvert_exporter": "python",
   "pygments_lexer": "ipython3",
   "version": "3.7.5"
  }
 },
 "nbformat": 4,
 "nbformat_minor": 4
}
